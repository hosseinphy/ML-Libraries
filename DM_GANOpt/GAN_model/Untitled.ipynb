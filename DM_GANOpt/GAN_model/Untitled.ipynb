{
 "cells": [
  {
   "cell_type": "code",
   "execution_count": 21,
   "metadata": {},
   "outputs": [
    {
     "ename": "ModuleNotFoundError",
     "evalue": "No module named 'torch'",
     "output_type": "error",
     "traceback": [
      "\u001b[0;31m---------------------------------------------------------------------------\u001b[0m",
      "\u001b[0;31mModuleNotFoundError\u001b[0m                       Traceback (most recent call last)",
      "\u001b[0;32m<ipython-input-21-bf0d671ab396>\u001b[0m in \u001b[0;36m<module>\u001b[0;34m\u001b[0m\n\u001b[1;32m     15\u001b[0m \u001b[0;31m# accessing exp data using exp_name\u001b[0m\u001b[0;34m\u001b[0m\u001b[0;34m\u001b[0m\u001b[0;34m\u001b[0m\u001b[0m\n\u001b[1;32m     16\u001b[0m \u001b[0mOCV\u001b[0m \u001b[0;34m=\u001b[0m \u001b[0mOpenCircuitVolatge\u001b[0m\u001b[0;34m(\u001b[0m\u001b[0mroot_path\u001b[0m\u001b[0;34m=\u001b[0m\u001b[0;34m'rbnb3p46'\u001b[0m\u001b[0;34m)\u001b[0m\u001b[0;34m\u001b[0m\u001b[0;34m\u001b[0m\u001b[0m\n\u001b[0;32m---> 17\u001b[0;31m \u001b[0mstage2param\u001b[0m\u001b[0;34m,\u001b[0m \u001b[0mstage2data\u001b[0m \u001b[0;34m=\u001b[0m \u001b[0mOCV\u001b[0m\u001b[0;34m.\u001b[0m\u001b[0mrun_exp\u001b[0m\u001b[0;34m(\u001b[0m\u001b[0mtest_name\u001b[0m\u001b[0;34m=\u001b[0m\u001b[0;34m'Test_6'\u001b[0m\u001b[0;34m,\u001b[0m \u001b[0mstage\u001b[0m\u001b[0;34m=\u001b[0m\u001b[0;34m'Depo'\u001b[0m\u001b[0;34m)\u001b[0m\u001b[0;34m\u001b[0m\u001b[0;34m\u001b[0m\u001b[0m\n\u001b[0m\u001b[1;32m     18\u001b[0m \u001b[0;34m\u001b[0m\u001b[0m\n\u001b[1;32m     19\u001b[0m \u001b[0;31m# extract x & y lables of the nonscalar output data\u001b[0m\u001b[0;34m\u001b[0m\u001b[0;34m\u001b[0m\u001b[0;34m\u001b[0m\u001b[0m\n",
      "\u001b[0;32m~/Documents/nrcan/EMAP/map_simulation_manager/example_remote_scripts/emap/bin/data_emulator.py\u001b[0m in \u001b[0;36mrun_exp\u001b[0;34m(self, test_name, stage)\u001b[0m\n\u001b[1;32m    190\u001b[0m \u001b[0;34m\u001b[0m\u001b[0m\n\u001b[1;32m    191\u001b[0m         \u001b[0;31m# code to react the data here\u001b[0m\u001b[0;34m\u001b[0m\u001b[0;34m\u001b[0m\u001b[0;34m\u001b[0m\u001b[0m\n\u001b[0;32m--> 192\u001b[0;31m         \u001b[0mstage_params\u001b[0m\u001b[0;34m,\u001b[0m \u001b[0mstage_data\u001b[0m \u001b[0;34m=\u001b[0m \u001b[0mget_step_data\u001b[0m\u001b[0;34m(\u001b[0m\u001b[0mroot_path\u001b[0m\u001b[0;34m=\u001b[0m\u001b[0mself\u001b[0m\u001b[0;34m.\u001b[0m\u001b[0mroot_path\u001b[0m\u001b[0;34m,\u001b[0m \u001b[0mstage\u001b[0m\u001b[0;34m=\u001b[0m\u001b[0mstage\u001b[0m\u001b[0;34m,\u001b[0m \u001b[0mstep\u001b[0m\u001b[0;34m=\u001b[0m\u001b[0;34m'OCV'\u001b[0m\u001b[0;34m,\u001b[0m \u001b[0mtest_name\u001b[0m\u001b[0;34m=\u001b[0m\u001b[0mtest_name\u001b[0m\u001b[0;34m)\u001b[0m\u001b[0;34m\u001b[0m\u001b[0;34m\u001b[0m\u001b[0m\n\u001b[0m\u001b[1;32m    193\u001b[0m \u001b[0;34m\u001b[0m\u001b[0m\n\u001b[1;32m    194\u001b[0m         \u001b[0;32mreturn\u001b[0m \u001b[0mstage_params\u001b[0m\u001b[0;34m,\u001b[0m \u001b[0mstage_data\u001b[0m\u001b[0;34m\u001b[0m\u001b[0;34m\u001b[0m\u001b[0m\n",
      "\u001b[0;32m~/Documents/nrcan/EMAP/map_simulation_manager/example_remote_scripts/emap/bin/data_emulator.py\u001b[0m in \u001b[0;36mget_step_data\u001b[0;34m(root_path, stage, step, test_name)\u001b[0m\n\u001b[1;32m     72\u001b[0m \u001b[0;32mdef\u001b[0m \u001b[0mget_step_data\u001b[0m\u001b[0;34m(\u001b[0m\u001b[0mroot_path\u001b[0m\u001b[0;34m,\u001b[0m \u001b[0mstage\u001b[0m\u001b[0;34m,\u001b[0m \u001b[0mstep\u001b[0m\u001b[0;34m,\u001b[0m \u001b[0mtest_name\u001b[0m\u001b[0;34m)\u001b[0m\u001b[0;34m:\u001b[0m\u001b[0;34m\u001b[0m\u001b[0;34m\u001b[0m\u001b[0m\n\u001b[1;32m     73\u001b[0m     \u001b[0;32mwith\u001b[0m \u001b[0mopen\u001b[0m\u001b[0;34m(\u001b[0m\u001b[0mos\u001b[0m\u001b[0;34m.\u001b[0m\u001b[0mpath\u001b[0m\u001b[0;34m.\u001b[0m\u001b[0mjoin\u001b[0m\u001b[0;34m(\u001b[0m\u001b[0mPath\u001b[0m\u001b[0;34m(\u001b[0m\u001b[0m__file__\u001b[0m\u001b[0;34m)\u001b[0m\u001b[0;34m.\u001b[0m\u001b[0mparent\u001b[0m\u001b[0;34m,\u001b[0m \u001b[0mroot_path\u001b[0m \u001b[0;34m+\u001b[0m \u001b[0;34m\"_saved_data.pkl\"\u001b[0m\u001b[0;34m)\u001b[0m\u001b[0;34m,\u001b[0m \u001b[0;34m\"rb\"\u001b[0m\u001b[0;34m)\u001b[0m \u001b[0;32mas\u001b[0m \u001b[0mf\u001b[0m\u001b[0;34m:\u001b[0m\u001b[0;34m\u001b[0m\u001b[0;34m\u001b[0m\u001b[0m\n\u001b[0;32m---> 74\u001b[0;31m         \u001b[0mraw_data\u001b[0m \u001b[0;34m=\u001b[0m \u001b[0mpickle\u001b[0m\u001b[0;34m.\u001b[0m\u001b[0mload\u001b[0m\u001b[0;34m(\u001b[0m\u001b[0mf\u001b[0m\u001b[0;34m)\u001b[0m\u001b[0;34m\u001b[0m\u001b[0;34m\u001b[0m\u001b[0m\n\u001b[0m\u001b[1;32m     75\u001b[0m \u001b[0;34m\u001b[0m\u001b[0m\n\u001b[1;32m     76\u001b[0m     \u001b[0mtest_data\u001b[0m \u001b[0;34m=\u001b[0m \u001b[0mraw_data\u001b[0m\u001b[0;34m[\u001b[0m\u001b[0mroot_path\u001b[0m\u001b[0;34m]\u001b[0m\u001b[0;34m[\u001b[0m\u001b[0mtest_name\u001b[0m\u001b[0;34m]\u001b[0m\u001b[0;34m\u001b[0m\u001b[0;34m\u001b[0m\u001b[0m\n",
      "\u001b[0;31mModuleNotFoundError\u001b[0m: No module named 'torch'"
     ]
    }
   ],
   "source": [
    "import sys\n",
    "from data_emulator import OpenCircuitVolatge, Chronoamperometry, Chronopotentiometry, ElectroImpedanceSpectro, \\\n",
    "    Dosage, get_sample\n",
    "import numpy as np\n",
    "import pandas as pd\n",
    "\n",
    "import matplotlib.pyplot as plt\n",
    "import re\n",
    "import json\n",
    "import pandas as pd\n",
    "\n",
    "\n",
    "\n",
    "\n",
    "# accessing exp data using exp_name\n",
    "OCV = OpenCircuitVolatge(root_path='rbnb3p46')\n",
    "stage2param, stage2data = OCV.run_exp(test_name='Test_6', stage='Depo')\n",
    "\n",
    "# extract x & y lables of the nonscalar output data\n",
    "#x_labels, y_labels = list(stage2data.keys())[:2], list(stage2data.keys())[2:]\n",
    "x_labels, y_labels = list(stage2data.keys())[0], list(stage2data.keys())[2]\n",
    "\n",
    "print(x_labels, y_labels)\n",
    "# create a DataFrame froma dictionary\n",
    "df = pd.DataFrame.from_dict(stage2data)"
   ]
  },
  {
   "cell_type": "code",
   "execution_count": null,
   "metadata": {},
   "outputs": [],
   "source": []
  },
  {
   "cell_type": "code",
   "execution_count": 15,
   "metadata": {},
   "outputs": [
    {
     "ename": "ModuleNotFoundError",
     "evalue": "No module named 'torch'",
     "output_type": "error",
     "traceback": [
      "\u001b[0;31m---------------------------------------------------------------------------\u001b[0m",
      "\u001b[0;31mModuleNotFoundError\u001b[0m                       Traceback (most recent call last)",
      "\u001b[0;32m<ipython-input-15-4fe4d70c13ce>\u001b[0m in \u001b[0;36m<module>\u001b[0;34m\u001b[0m\n\u001b[1;32m      1\u001b[0m \u001b[0;31m# accessing exp data using exp_name\u001b[0m\u001b[0;34m\u001b[0m\u001b[0;34m\u001b[0m\u001b[0;34m\u001b[0m\u001b[0m\n\u001b[1;32m      2\u001b[0m \u001b[0mOCV\u001b[0m \u001b[0;34m=\u001b[0m \u001b[0mOpenCircuitVolatge\u001b[0m\u001b[0;34m(\u001b[0m\u001b[0mroot_path\u001b[0m\u001b[0;34m=\u001b[0m\u001b[0;34m'rbnb3p46'\u001b[0m\u001b[0;34m)\u001b[0m\u001b[0;34m\u001b[0m\u001b[0;34m\u001b[0m\u001b[0m\n\u001b[0;32m----> 3\u001b[0;31m \u001b[0mstage2param\u001b[0m\u001b[0;34m,\u001b[0m \u001b[0mstage2data\u001b[0m \u001b[0;34m=\u001b[0m \u001b[0mOCV\u001b[0m\u001b[0;34m.\u001b[0m\u001b[0mrun_exp\u001b[0m\u001b[0;34m(\u001b[0m\u001b[0mtest_name\u001b[0m\u001b[0;34m=\u001b[0m\u001b[0;34m'Test_6'\u001b[0m\u001b[0;34m,\u001b[0m \u001b[0mstage\u001b[0m\u001b[0;34m=\u001b[0m\u001b[0;34m'Depo'\u001b[0m\u001b[0;34m)\u001b[0m\u001b[0;34m\u001b[0m\u001b[0;34m\u001b[0m\u001b[0m\n\u001b[0m\u001b[1;32m      4\u001b[0m \u001b[0;34m\u001b[0m\u001b[0m\n\u001b[1;32m      5\u001b[0m \u001b[0;31m# extract x & y lables of the nonscalar output data\u001b[0m\u001b[0;34m\u001b[0m\u001b[0;34m\u001b[0m\u001b[0;34m\u001b[0m\u001b[0m\n",
      "\u001b[0;32m~/Documents/nrcan/EMAP/map_simulation_manager/example_remote_scripts/emap/bin/data_emulator.py\u001b[0m in \u001b[0;36mrun_exp\u001b[0;34m(self, test_name, stage)\u001b[0m\n\u001b[1;32m    190\u001b[0m \u001b[0;34m\u001b[0m\u001b[0m\n\u001b[1;32m    191\u001b[0m         \u001b[0;31m# code to react the data here\u001b[0m\u001b[0;34m\u001b[0m\u001b[0;34m\u001b[0m\u001b[0;34m\u001b[0m\u001b[0m\n\u001b[0;32m--> 192\u001b[0;31m         \u001b[0mstage_params\u001b[0m\u001b[0;34m,\u001b[0m \u001b[0mstage_data\u001b[0m \u001b[0;34m=\u001b[0m \u001b[0mget_step_data\u001b[0m\u001b[0;34m(\u001b[0m\u001b[0mroot_path\u001b[0m\u001b[0;34m=\u001b[0m\u001b[0mself\u001b[0m\u001b[0;34m.\u001b[0m\u001b[0mroot_path\u001b[0m\u001b[0;34m,\u001b[0m \u001b[0mstage\u001b[0m\u001b[0;34m=\u001b[0m\u001b[0mstage\u001b[0m\u001b[0;34m,\u001b[0m \u001b[0mstep\u001b[0m\u001b[0;34m=\u001b[0m\u001b[0;34m'OCV'\u001b[0m\u001b[0;34m,\u001b[0m \u001b[0mtest_name\u001b[0m\u001b[0;34m=\u001b[0m\u001b[0mtest_name\u001b[0m\u001b[0;34m)\u001b[0m\u001b[0;34m\u001b[0m\u001b[0;34m\u001b[0m\u001b[0m\n\u001b[0m\u001b[1;32m    193\u001b[0m \u001b[0;34m\u001b[0m\u001b[0m\n\u001b[1;32m    194\u001b[0m         \u001b[0;32mreturn\u001b[0m \u001b[0mstage_params\u001b[0m\u001b[0;34m,\u001b[0m \u001b[0mstage_data\u001b[0m\u001b[0;34m\u001b[0m\u001b[0;34m\u001b[0m\u001b[0m\n",
      "\u001b[0;32m~/Documents/nrcan/EMAP/map_simulation_manager/example_remote_scripts/emap/bin/data_emulator.py\u001b[0m in \u001b[0;36mget_step_data\u001b[0;34m(root_path, stage, step, test_name)\u001b[0m\n\u001b[1;32m     72\u001b[0m \u001b[0;32mdef\u001b[0m \u001b[0mget_step_data\u001b[0m\u001b[0;34m(\u001b[0m\u001b[0mroot_path\u001b[0m\u001b[0;34m,\u001b[0m \u001b[0mstage\u001b[0m\u001b[0;34m,\u001b[0m \u001b[0mstep\u001b[0m\u001b[0;34m,\u001b[0m \u001b[0mtest_name\u001b[0m\u001b[0;34m)\u001b[0m\u001b[0;34m:\u001b[0m\u001b[0;34m\u001b[0m\u001b[0;34m\u001b[0m\u001b[0m\n\u001b[1;32m     73\u001b[0m     \u001b[0;32mwith\u001b[0m \u001b[0mopen\u001b[0m\u001b[0;34m(\u001b[0m\u001b[0mos\u001b[0m\u001b[0;34m.\u001b[0m\u001b[0mpath\u001b[0m\u001b[0;34m.\u001b[0m\u001b[0mjoin\u001b[0m\u001b[0;34m(\u001b[0m\u001b[0mPath\u001b[0m\u001b[0;34m(\u001b[0m\u001b[0m__file__\u001b[0m\u001b[0;34m)\u001b[0m\u001b[0;34m.\u001b[0m\u001b[0mparent\u001b[0m\u001b[0;34m,\u001b[0m \u001b[0mroot_path\u001b[0m \u001b[0;34m+\u001b[0m \u001b[0;34m\"_saved_data.pkl\"\u001b[0m\u001b[0;34m)\u001b[0m\u001b[0;34m,\u001b[0m \u001b[0;34m\"rb\"\u001b[0m\u001b[0;34m)\u001b[0m \u001b[0;32mas\u001b[0m \u001b[0mf\u001b[0m\u001b[0;34m:\u001b[0m\u001b[0;34m\u001b[0m\u001b[0;34m\u001b[0m\u001b[0m\n\u001b[0;32m---> 74\u001b[0;31m         \u001b[0mraw_data\u001b[0m \u001b[0;34m=\u001b[0m \u001b[0mpickle\u001b[0m\u001b[0;34m.\u001b[0m\u001b[0mload\u001b[0m\u001b[0;34m(\u001b[0m\u001b[0mf\u001b[0m\u001b[0;34m)\u001b[0m\u001b[0;34m\u001b[0m\u001b[0;34m\u001b[0m\u001b[0m\n\u001b[0m\u001b[1;32m     75\u001b[0m \u001b[0;34m\u001b[0m\u001b[0m\n\u001b[1;32m     76\u001b[0m     \u001b[0mtest_data\u001b[0m \u001b[0;34m=\u001b[0m \u001b[0mraw_data\u001b[0m\u001b[0;34m[\u001b[0m\u001b[0mroot_path\u001b[0m\u001b[0;34m]\u001b[0m\u001b[0;34m[\u001b[0m\u001b[0mtest_name\u001b[0m\u001b[0;34m]\u001b[0m\u001b[0;34m\u001b[0m\u001b[0;34m\u001b[0m\u001b[0m\n",
      "\u001b[0;31mModuleNotFoundError\u001b[0m: No module named 'torch'"
     ]
    }
   ],
   "source": []
  },
  {
   "cell_type": "code",
   "execution_count": 11,
   "metadata": {},
   "outputs": [
    {
     "data": {
      "text/plain": [
       "'Depo'"
      ]
     },
     "execution_count": 11,
     "metadata": {},
     "output_type": "execute_result"
    }
   ],
   "source": [
    "\n",
    "df = pd.DataFrame.from_dict(stage2data)"
   ]
  },
  {
   "cell_type": "code",
   "execution_count": 192,
   "metadata": {},
   "outputs": [
    {
     "data": {
      "text/plain": [
       "'/Users/hazizi/Documents/nrcan/EMAP/map_simulation_manager/example_remote_scripts/emap/bin'"
      ]
     },
     "execution_count": 192,
     "metadata": {},
     "output_type": "execute_result"
    }
   ],
   "source": [
    "pwd"
   ]
  },
  {
   "cell_type": "code",
   "execution_count": 223,
   "metadata": {},
   "outputs": [
    {
     "name": "stdout",
     "output_type": "stream",
     "text": [
      "Line 1: depo_ocv_rest_time 30\n",
      "Line 2: depo_ocv_record_every_dE 0.1\n",
      "Line 3: depo_ocv_record_every_dT 0.1\n",
      "Line 4: depo_ocv_E_range KBIO_ERANGE_AUTO\n",
      "Line 5: depo_ocv_xctr 0\n"
     ]
    }
   ],
   "source": [
    "with open(\"../simulations/4e645d0e-1d99-11ed-b089-074002b6f23d/settings.dat\") as f:\n",
    "    \n",
    "    line = f.readline()\n",
    "    while line:        \n",
    "        if line.split()[0] == \"module\" and line.split()[1] == 'depo_ocv':\n",
    "            break\n",
    "        else:\n",
    "            line = f.readline()\n",
    "            continue\n",
    "            \n",
    "    line = f.readline()\n",
    "    cnt = 1\n",
    "    while line and line.split()[0] != \"module\":\n",
    "        print(\"Line {}: {}\".format(cnt, line.strip()))\n",
    "        line = f.readline()\n",
    "        cnt += 1\n",
    "            \n"
   ]
  },
  {
   "cell_type": "code",
   "execution_count": 233,
   "metadata": {},
   "outputs": [],
   "source": [
    "import re\n",
    "\n",
    "def isnumber(n):\n",
    "    try:\n",
    "        float(n)\n",
    "\n",
    "    except ValueError:\n",
    "        return False\n",
    "\n",
    "    return True\n",
    "\n",
    "def read_settings(stage_name):\n",
    "    import re\n",
    "\n",
    "    fname = \"../simulations/4e645d0e-1d99-11ed-b089-074002b6f23d/settings.dat\"\n",
    "    input_vars = {}\n",
    "\n",
    "\n",
    "    float_match = re.compile(\"^[-+]?[0-9]*[.][0-9]+$\")\n",
    "    int_match = re.compile(\"^[-+]?[0-9]+$\")\n",
    "\n",
    "\n",
    "    with open(fname) as f:\n",
    "\n",
    "        line = f.readline()\n",
    "        while line:\n",
    "            if line.split()[0] == \"module\" and line.split()[1] == stage_name:\n",
    "                break\n",
    "            else:\n",
    "                line = f.readline()\n",
    "                continue\n",
    "\n",
    "        line = f.readline()\n",
    "\n",
    "\n",
    "        while line and line.split()[0] != \"module\":\n",
    "            print(line)\n",
    "            l = line.split()\n",
    "            if len(l) > 1:\n",
    "                if l[1].startswith('['):\n",
    "                    input_vars[l[0]] = [int(n) for n in\n",
    "                                           [', '.join(\n",
    "                                                     [y for y in x.strip(']|[').split(',') if y ]\n",
    "                                                     ) for x in l[1:]\n",
    "                                             ]\n",
    "                                        ]\n",
    "                elif isnumber(l[1]):\n",
    "\n",
    "                    if(float_match.match(l[1])):\n",
    "                        input_vars[l[0]] = float(l[1])\n",
    "\n",
    "                    elif(int_match.match(l[1])):\n",
    "                        input_vars[l[0]] = int(l[1])\n",
    "\n",
    "                else:\n",
    "                    input_vars[l[0]] = l[1]\n",
    "            else:\n",
    "                input_vars[l[0]] = \"\"\n",
    "\n",
    "            line = f.readline()\n",
    "\n",
    "    return input_vars"
   ]
  },
  {
   "cell_type": "code",
   "execution_count": 234,
   "metadata": {},
   "outputs": [
    {
     "name": "stdout",
     "output_type": "stream",
     "text": [
      "depo_ocv_rest_time 30\n",
      "\n",
      "depo_ocv_record_every_dE 0.1\n",
      "\n",
      "depo_ocv_record_every_dT 0.1\n",
      "\n",
      "depo_ocv_E_range KBIO_ERANGE_AUTO\n",
      "\n",
      "depo_ocv_xctr 0\n",
      "\n"
     ]
    },
    {
     "data": {
      "text/plain": [
       "{'depo_ocv_rest_time': 30,\n",
       " 'depo_ocv_record_every_dE': 0.1,\n",
       " 'depo_ocv_record_every_dT': 0.1,\n",
       " 'depo_ocv_E_range': 'KBIO_ERANGE_AUTO',\n",
       " 'depo_ocv_xctr': 0}"
      ]
     },
     "execution_count": 234,
     "metadata": {},
     "output_type": "execute_result"
    }
   ],
   "source": [
    "read_settings('depo_ocv')"
   ]
  },
  {
   "cell_type": "code",
   "execution_count": 252,
   "metadata": {},
   "outputs": [
    {
     "data": {
      "text/plain": [
       "['Co', 'Fe', 'Pb']"
      ]
     },
     "execution_count": 252,
     "metadata": {},
     "output_type": "execute_result"
    }
   ],
   "source": [
    "t = {'dosage_xco': 0.964695545164825,\n",
    "'dosage_xfe': 0.9548731217384676,\n",
    "'dosage_xpb': 0.9760849849412816}\n",
    "\n",
    "[ x.lstrip('dosage_')[1].upper() + x.lstrip('dosage_')[2:]  for x in t.keys()]"
   ]
  },
  {
   "cell_type": "code",
   "execution_count": 240,
   "metadata": {},
   "outputs": [
    {
     "ename": "SyntaxError",
     "evalue": "invalid syntax (<ipython-input-240-ea6d0813bbd3>, line 1)",
     "output_type": "error",
     "traceback": [
      "\u001b[0;36m  File \u001b[0;32m\"<ipython-input-240-ea6d0813bbd3>\"\u001b[0;36m, line \u001b[0;32m1\u001b[0m\n\u001b[0;31m    depo_ocv_rest_time 30\u001b[0m\n\u001b[0m                       ^\u001b[0m\n\u001b[0;31mSyntaxError\u001b[0m\u001b[0;31m:\u001b[0m invalid syntax\n"
     ]
    }
   ],
   "source": [
    "depo_ocv_rest_time 30\n",
    "depo_ocv_record_every_dE 0.1\n",
    "depo_ocv_record_every_dT 0.1\n",
    "depo_ocv_E_range KBIO_ERANGE_AUTO\n",
    "depo_ocv_xctr 0"
   ]
  },
  {
   "cell_type": "code",
   "execution_count": 2,
   "metadata": {},
   "outputs": [
    {
     "data": {
      "text/plain": [
       "{'xco': 0.40149999999999997, 'xfe': 0.4013, 'xpb': 0.40329999999999994}"
      ]
     },
     "execution_count": 2,
     "metadata": {},
     "output_type": "execute_result"
    }
   ],
   "source": [
    "l = [{'name': 'xco', 'value': 0.40149999999999997}, \n",
    " {'name': 'xfe', 'value': 0.4013}, \n",
    " {'name': 'xpb', 'value': 0.40329999999999994}]\n",
    "\n",
    "{x['name']:x['value'] for x in l}"
   ]
  },
  {
   "cell_type": "code",
   "execution_count": 38,
   "metadata": {},
   "outputs": [
    {
     "data": {
      "text/plain": [
       "4"
      ]
     },
     "execution_count": 38,
     "metadata": {},
     "output_type": "execute_result"
    }
   ],
   "source": [
    "l = [1, 2, 3, 4]\n",
    "len(l)\n",
    "# [i for item in l for i in item]"
   ]
  },
  {
   "cell_type": "code",
   "execution_count": 46,
   "metadata": {},
   "outputs": [],
   "source": [
    "import itertools"
   ]
  },
  {
   "cell_type": "code",
   "execution_count": 37,
   "metadata": {},
   "outputs": [
    {
     "ename": "TypeError",
     "evalue": "'int' object is not iterable",
     "output_type": "error",
     "traceback": [
      "\u001b[0;31m---------------------------------------------------------------------------\u001b[0m",
      "\u001b[0;31mTypeError\u001b[0m                                 Traceback (most recent call last)",
      "\u001b[0;32m<ipython-input-37-f40fe48be7e7>\u001b[0m in \u001b[0;36m<module>\u001b[0;34m\u001b[0m\n\u001b[0;32m----> 1\u001b[0;31m \u001b[0mnew_foods\u001b[0m \u001b[0;34m=\u001b[0m \u001b[0mlist\u001b[0m\u001b[0;34m(\u001b[0m\u001b[0mitertools\u001b[0m\u001b[0;34m.\u001b[0m\u001b[0mchain\u001b[0m\u001b[0;34m(\u001b[0m\u001b[0;34m*\u001b[0m\u001b[0ml\u001b[0m\u001b[0;34m)\u001b[0m\u001b[0;34m)\u001b[0m\u001b[0;34m\u001b[0m\u001b[0;34m\u001b[0m\u001b[0m\n\u001b[0m\u001b[1;32m      2\u001b[0m \u001b[0mnew_foods\u001b[0m\u001b[0;34m\u001b[0m\u001b[0;34m\u001b[0m\u001b[0m\n",
      "\u001b[0;31mTypeError\u001b[0m: 'int' object is not iterable"
     ]
    }
   ],
   "source": [
    "new_foods = list(itertools.chain(*l))\n",
    "new_foods"
   ]
  },
  {
   "cell_type": "code",
   "execution_count": 139,
   "metadata": {},
   "outputs": [],
   "source": [
    "def read_params(d):\n",
    "    \n",
    "    if len(d) == 0:\n",
    "        print(\"The input dictionary is empty\")\n",
    "        return\n",
    "        \n",
    "#     if len(d.keys()) > 1:\n",
    "    data = {\n",
    "\n",
    "    'inputs': [i for item in\n",
    "                [  \n",
    "                    [{'input_name': d[ind]['module_name']+'_'+key , 'input_value':val} for (key, val) in \n",
    "                                 zip(d[ind]['inputs'][0]['keys'], d[ind]['inputs'][0]['values'])\n",
    "                    ] for ind in d.keys()\n",
    "                ] for i in item\n",
    "            ]        \n",
    "    }\n",
    "    \n",
    "#     else:\n",
    "        \n",
    "#         data = {\n",
    "\n",
    "#         'inputs': [\n",
    "#                     {'input_name': d['module_name']+'_'+key , 'input_value':val} for (key, val) in \n",
    "#                      zip(d['inputs'][0]['keys'], d['inputs'][0]['values'])\n",
    "\n",
    "#                 ]\n",
    "#         }\n",
    "\n",
    "    return data"
   ]
  },
  {
   "cell_type": "code",
   "execution_count": 149,
   "metadata": {},
   "outputs": [],
   "source": [
    "def read_params(d):\n",
    "    \n",
    "    if len(d) == 0:\n",
    "        print(\"The input dictionary is empty\")\n",
    "        return\n",
    "        \n",
    "#     if len(d.keys()) > 1:\n",
    "    data = [\n",
    "        \n",
    "            {\n",
    "             'module_name': d[ind]['module_name'],\n",
    "             'inputs': [{'input_name': d[ind]['module_name']+'_'+key , 'input_value':val} for (key, val) in \n",
    "                                     zip(d[ind]['inputs'][0]['keys'], d[ind]['inputs'][0]['values'])\n",
    "                        ] \n",
    "            } for ind in d.keys()\n",
    "\n",
    "    ]\n",
    "#     'inputs': [i for item in\n",
    "#                 [  \n",
    "#                     [{'input_name': d[ind]['module_name']+'_'+key , 'input_value':val} for (key, val) in \n",
    "#                                  zip(d[ind]['inputs'][0]['keys'], d[ind]['inputs'][0]['values'])\n",
    "#                     ] for ind in d.keys()\n",
    "#                 ] for i in item\n",
    "#             ]        \n",
    "#     }\n",
    "    \n",
    "#     else:\n",
    "        \n",
    "#         data = {\n",
    "\n",
    "#         'inputs': [\n",
    "#                     {'input_name': d['module_name']+'_'+key , 'input_value':val} for (key, val) in \n",
    "#                      zip(d['inputs'][0]['keys'], d['inputs'][0]['values'])\n",
    "\n",
    "#                 ]\n",
    "#         }\n",
    "\n",
    "    return data"
   ]
  },
  {
   "cell_type": "code",
   "execution_count": 180,
   "metadata": {},
   "outputs": [],
   "source": [
    "from emapParams import input_dict\n"
   ]
  },
  {
   "cell_type": "code",
   "execution_count": 181,
   "metadata": {},
   "outputs": [
    {
     "data": {
      "text/plain": [
       "{'module_name': 'depo_ocv',\n",
       " 'inputs': [{'keys': ['rest_time',\n",
       "    'record_every_dE',\n",
       "    'record_every_dT',\n",
       "    'E_range',\n",
       "    'xctr'],\n",
       "   'values': [30, 0.1, 0.1, 'KBIO_ERANGE_AUTO', 0]}]}"
      ]
     },
     "execution_count": 181,
     "metadata": {},
     "output_type": "execute_result"
    }
   ],
   "source": [
    "input_dict"
   ]
  },
  {
   "cell_type": "code",
   "execution_count": null,
   "metadata": {},
   "outputs": [],
   "source": []
  },
  {
   "cell_type": "code",
   "execution_count": 182,
   "metadata": {},
   "outputs": [],
   "source": [
    "new_dict = {'1':\n",
    "                {'module_name': 'depo_ocv',\n",
    "                 'inputs': [{'keys': ['rest_time',\n",
    "                'record_every_dE',\n",
    "                'record_every_dT',\n",
    "                'E_range',\n",
    "                'xctr'],\n",
    "               'values': [30, 0.1, 0.1, 'KBIO_ERANGE_AUTO', 0]}]\n",
    "               },\n",
    "            '2':\n",
    "                {'module_name': 'depo_cp',\n",
    "                 'inputs': [{'keys': ['rest_time',\n",
    "                'record_every_dE',\n",
    "                'record_every_dT',\n",
    "                'E_range',\n",
    "                'xctr'],\n",
    "               'values': [30, 0.1, 0.1, 'KBIO_ERANGE_AUTO', 0]}]\n",
    "               }\n",
    "           }\n",
    "            "
   ]
  },
  {
   "cell_type": "code",
   "execution_count": 183,
   "metadata": {},
   "outputs": [],
   "source": [
    "# load json data and change the key values\n",
    "params = read_params(new_dict)"
   ]
  },
  {
   "cell_type": "code",
   "execution_count": 184,
   "metadata": {},
   "outputs": [],
   "source": [
    "config = [\n",
    "            {'module_name': 'dosage', \n",
    "             'inputs': [{'input_name': 'xco', 'input_value': 0.964695545164825}, \n",
    "                 {'input_name': 'xfe', 'input_value': 0.9548731217384676}, \n",
    "                 {'input_name': 'xpb', 'input_value': 0.9760849849412816}, ]\n",
    "             },\n",
    "              \n",
    "            {'module_name': 'deposition', \n",
    "             'inputs': [{'input_name': 'xco', 'input_value': 0.964695545164825}, \n",
    "                 {'input_name': 'xfe', 'input_value': 0.9548731217384676}, \n",
    "                 {'input_name': 'xpb', 'input_value': 0.9760849849412816}, ]\n",
    " }\n",
    "]"
   ]
  },
  {
   "cell_type": "code",
   "execution_count": 185,
   "metadata": {},
   "outputs": [],
   "source": [
    "config2 = [\n",
    "    {\n",
    "        'module_name': config[item]['module_name'],\n",
    "        'inputs': [{'input_name': config[item]['module_name']+'_'+x['input_name'], \n",
    "                  'input_value': x['input_value']} for x in config[item]['inputs'] \n",
    "                ] \n",
    "    }\n",
    "    for item in range(len(config))\n",
    "]\n",
    "# [{k:v for k, v in x} for x in d['inputs']]"
   ]
  },
  {
   "cell_type": "code",
   "execution_count": 186,
   "metadata": {},
   "outputs": [
    {
     "data": {
      "text/plain": [
       "[{'module_name': 'dosage',\n",
       "  'inputs': [{'input_name': 'dosage_xco', 'input_value': 0.964695545164825},\n",
       "   {'input_name': 'dosage_xfe', 'input_value': 0.9548731217384676},\n",
       "   {'input_name': 'dosage_xpb', 'input_value': 0.9760849849412816}]},\n",
       " {'module_name': 'deposition',\n",
       "  'inputs': [{'input_name': 'deposition_xco',\n",
       "    'input_value': 0.964695545164825},\n",
       "   {'input_name': 'deposition_xfe', 'input_value': 0.9548731217384676},\n",
       "   {'input_name': 'deposition_xpb', 'input_value': 0.9760849849412816}]}]"
      ]
     },
     "execution_count": 186,
     "metadata": {},
     "output_type": "execute_result"
    }
   ],
   "source": [
    "config2"
   ]
  },
  {
   "cell_type": "code",
   "execution_count": 187,
   "metadata": {},
   "outputs": [],
   "source": [
    "config2 += params"
   ]
  },
  {
   "cell_type": "code",
   "execution_count": 188,
   "metadata": {},
   "outputs": [
    {
     "data": {
      "text/plain": [
       "[{'module_name': 'dosage',\n",
       "  'inputs': [{'input_name': 'dosage_xco', 'input_value': 0.964695545164825},\n",
       "   {'input_name': 'dosage_xfe', 'input_value': 0.9548731217384676},\n",
       "   {'input_name': 'dosage_xpb', 'input_value': 0.9760849849412816}]},\n",
       " {'module_name': 'deposition',\n",
       "  'inputs': [{'input_name': 'deposition_xco',\n",
       "    'input_value': 0.964695545164825},\n",
       "   {'input_name': 'deposition_xfe', 'input_value': 0.9548731217384676},\n",
       "   {'input_name': 'deposition_xpb', 'input_value': 0.9760849849412816}]},\n",
       " {'module_name': 'depo_ocv',\n",
       "  'inputs': [{'input_name': 'depo_ocv_rest_time', 'input_value': 30},\n",
       "   {'input_name': 'depo_ocv_record_every_dE', 'input_value': 0.1},\n",
       "   {'input_name': 'depo_ocv_record_every_dT', 'input_value': 0.1},\n",
       "   {'input_name': 'depo_ocv_E_range', 'input_value': 'KBIO_ERANGE_AUTO'},\n",
       "   {'input_name': 'depo_ocv_xctr', 'input_value': 0}]},\n",
       " {'module_name': 'depo_cp',\n",
       "  'inputs': [{'input_name': 'depo_cp_rest_time', 'input_value': 30},\n",
       "   {'input_name': 'depo_cp_record_every_dE', 'input_value': 0.1},\n",
       "   {'input_name': 'depo_cp_record_every_dT', 'input_value': 0.1},\n",
       "   {'input_name': 'depo_cp_E_range', 'input_value': 'KBIO_ERANGE_AUTO'},\n",
       "   {'input_name': 'depo_cp_xctr', 'input_value': 0}]}]"
      ]
     },
     "execution_count": 188,
     "metadata": {},
     "output_type": "execute_result"
    }
   ],
   "source": [
    "config2"
   ]
  },
  {
   "cell_type": "code",
   "execution_count": 83,
   "metadata": {},
   "outputs": [
    {
     "data": {
      "text/plain": [
       "{'input_name': 'xco', 'input_value': 0.964695545164825}"
      ]
     },
     "execution_count": 83,
     "metadata": {},
     "output_type": "execute_result"
    }
   ],
   "source": [
    "{'inputs': \n",
    " [{'input_name'}]\n",
    "}"
   ]
  },
  {
   "cell_type": "code",
   "execution_count": 84,
   "metadata": {},
   "outputs": [
    {
     "ename": "TypeError",
     "evalue": "list indices must be integers or slices, not str",
     "output_type": "error",
     "traceback": [
      "\u001b[0;31m---------------------------------------------------------------------------\u001b[0m",
      "\u001b[0;31mTypeError\u001b[0m                                 Traceback (most recent call last)",
      "\u001b[0;32m<ipython-input-84-d0842cee064b>\u001b[0m in \u001b[0;36m<module>\u001b[0;34m\u001b[0m\n\u001b[1;32m      1\u001b[0m [\n\u001b[1;32m      2\u001b[0m     \u001b[0;34m{\u001b[0m\u001b[0;34m'input_name'\u001b[0m\u001b[0;34m:\u001b[0m \u001b[0md\u001b[0m\u001b[0;34m[\u001b[0m\u001b[0;34m'module_name'\u001b[0m\u001b[0;34m]\u001b[0m\u001b[0;34m+\u001b[0m\u001b[0;34m'_'\u001b[0m\u001b[0;34m+\u001b[0m\u001b[0mkey\u001b[0m \u001b[0;34m,\u001b[0m \u001b[0;34m'input_value'\u001b[0m\u001b[0;34m:\u001b[0m\u001b[0mval\u001b[0m\u001b[0;34m}\u001b[0m \u001b[0;32mfor\u001b[0m \u001b[0;34m(\u001b[0m\u001b[0mkey\u001b[0m\u001b[0;34m,\u001b[0m \u001b[0mval\u001b[0m\u001b[0;34m)\u001b[0m \u001b[0;32min\u001b[0m\u001b[0;34m\u001b[0m\u001b[0;34m\u001b[0m\u001b[0m\n\u001b[0;32m----> 3\u001b[0;31m                      \u001b[0mzip\u001b[0m\u001b[0;34m(\u001b[0m\u001b[0md\u001b[0m\u001b[0;34m[\u001b[0m\u001b[0;34m'inputs'\u001b[0m\u001b[0;34m]\u001b[0m\u001b[0;34m[\u001b[0m\u001b[0;34m'input_name'\u001b[0m\u001b[0;34m]\u001b[0m\u001b[0;34m,\u001b[0m \u001b[0md\u001b[0m\u001b[0;34m[\u001b[0m\u001b[0;34m'inputs'\u001b[0m\u001b[0;34m]\u001b[0m\u001b[0;34m[\u001b[0m\u001b[0;34m'input_value'\u001b[0m\u001b[0;34m]\u001b[0m\u001b[0;34m)\u001b[0m\u001b[0;34m\u001b[0m\u001b[0;34m\u001b[0m\u001b[0m\n\u001b[0m\u001b[1;32m      4\u001b[0m ]   \n",
      "\u001b[0;31mTypeError\u001b[0m: list indices must be integers or slices, not str"
     ]
    }
   ],
   "source": [
    "\n",
    "[\n",
    "    {'input_name': d['module_name']+'_'+key , 'input_value':val} for (key, val) in \n",
    "                     zip(d['inputs']['input_name'], d['inputs']['input_value'])\n",
    "]   "
   ]
  },
  {
   "cell_type": "code",
   "execution_count": null,
   "metadata": {},
   "outputs": [],
   "source": []
  },
  {
   "cell_type": "code",
   "execution_count": null,
   "metadata": {},
   "outputs": [],
   "source": []
  },
  {
   "cell_type": "code",
   "execution_count": 68,
   "metadata": {},
   "outputs": [
    {
     "data": {
      "text/plain": [
       "2"
      ]
     },
     "execution_count": 68,
     "metadata": {},
     "output_type": "execute_result"
    }
   ],
   "source": [
    "len(new_dict.keys())"
   ]
  },
  {
   "cell_type": "code",
   "execution_count": 69,
   "metadata": {},
   "outputs": [
    {
     "data": {
      "text/plain": [
       "{'inputs': [{'input_name': 'depo_ocv_rest_time', 'input_value': 30},\n",
       "  {'input_name': 'depo_ocv_record_every_dE', 'input_value': 0.1},\n",
       "  {'input_name': 'depo_ocv_record_every_dT', 'input_value': 0.1},\n",
       "  {'input_name': 'depo_ocv_E_range', 'input_value': 'KBIO_ERANGE_AUTO'},\n",
       "  {'input_name': 'depo_ocv_xctr', 'input_value': 0},\n",
       "  {'input_name': 'depo_cp_rest_time', 'input_value': 30},\n",
       "  {'input_name': 'depo_cp_record_every_dE', 'input_value': 0.1},\n",
       "  {'input_name': 'depo_cp_record_every_dT', 'input_value': 0.1},\n",
       "  {'input_name': 'depo_cp_E_range', 'input_value': 'KBIO_ERANGE_AUTO'},\n",
       "  {'input_name': 'depo_cp_xctr', 'input_value': 0}]}"
      ]
     },
     "execution_count": 69,
     "metadata": {},
     "output_type": "execute_result"
    }
   ],
   "source": [
    "read_params(new_dict)"
   ]
  },
  {
   "cell_type": "code",
   "execution_count": 11,
   "metadata": {},
   "outputs": [
    {
     "data": {
      "text/plain": [
       "[{'input_name': 'depo_ocv_rest_time', 'input_value': 30},\n",
       " {'input_name': 'depo_ocv_record_every_dE', 'input_value': 0.1},\n",
       " {'input_name': 'depo_ocv_record_every_dT', 'input_value': 0.1},\n",
       " {'input_name': 'depo_ocv_E_range', 'input_value': 'KBIO_ERANGE_AUTO'},\n",
       " {'input_name': 'depo_ocv_xctr', 'input_value': 0},\n",
       " {'input_name': 'depo_cp_rest_time', 'input_value': 30},\n",
       " {'input_name': 'depo_cp_record_every_dE', 'input_value': 0.1},\n",
       " {'input_name': 'depo_cp_record_every_dT', 'input_value': 0.1},\n",
       " {'input_name': 'depo_cp_E_range', 'input_value': 'KBIO_ERANGE_AUTO'},\n",
       " {'input_name': 'depo_cp_xctr', 'input_value': 0}]"
      ]
     },
     "execution_count": 11,
     "metadata": {},
     "output_type": "execute_result"
    }
   ],
   "source": [
    "[i for item in\n",
    "    [  \n",
    "        [{'input_name': d[ind]['module_name']+'_'+key , 'input_value':val} for (key, val) in \n",
    "                     zip(d[ind]['inputs'][0]['keys'], d[ind]['inputs'][0]['values'])\n",
    "        ] for ind in d.keys()\n",
    "    ] for i in item\n",
    "]"
   ]
  },
  {
   "cell_type": "code",
   "execution_count": 3,
   "metadata": {},
   "outputs": [
    {
     "data": {
      "text/plain": [
       "{'module_name': 'depo_ocv',\n",
       " 'inputs': [{'keys': ['rest_time',\n",
       "    'record_every_dE',\n",
       "    'record_every_dT',\n",
       "    'E_range',\n",
       "    'xctr'],\n",
       "   'values': [30, 0.1, 0.1, 'KBIO_ERANGE_AUTO', 0]}]}"
      ]
     },
     "execution_count": 3,
     "metadata": {},
     "output_type": "execute_result"
    }
   ],
   "source": [
    "input_dict"
   ]
  },
  {
   "cell_type": "code",
   "execution_count": 106,
   "metadata": {},
   "outputs": [
    {
     "data": {
      "text/plain": [
       "{'inputs': [{'input_name': 'depo_ocv_rest_time', 'input_value': 30},\n",
       "  {'input_name': 'depo_ocv_record_every_dE', 'input_value': 0.1},\n",
       "  {'input_name': 'depo_ocv_record_every_dT', 'input_value': 0.1},\n",
       "  {'input_name': 'depo_ocv_E_range', 'input_value': 'KBIO_ERANGE_AUTO'},\n",
       "  {'input_name': 'depo_ocv_xctr', 'input_value': 0}]}"
      ]
     },
     "execution_count": 106,
     "metadata": {},
     "output_type": "execute_result"
    }
   ],
   "source": [
    "read_params(input_dict)"
   ]
  },
  {
   "cell_type": "code",
   "execution_count": 108,
   "metadata": {},
   "outputs": [
    {
     "data": {
      "text/plain": [
       "{'module_name': 'depo_ocv',\n",
       " 'inputs': [{'keys': ['rest_time',\n",
       "    'record_every_dE',\n",
       "    'record_every_dT',\n",
       "    'E_range',\n",
       "    'xctr'],\n",
       "   'values': [30, 0.1, 0.1, 'KBIO_ERANGE_AUTO', 0]}]}"
      ]
     },
     "execution_count": 108,
     "metadata": {},
     "output_type": "execute_result"
    }
   ],
   "source": [
    "d"
   ]
  },
  {
   "cell_type": "code",
   "execution_count": 110,
   "metadata": {},
   "outputs": [
    {
     "ename": "NameError",
     "evalue": "name 'k' is not defined",
     "output_type": "error",
     "traceback": [
      "\u001b[0;31m---------------------------------------------------------------------------\u001b[0m",
      "\u001b[0;31mNameError\u001b[0m                                 Traceback (most recent call last)",
      "\u001b[0;32m<ipython-input-110-ae3243280a52>\u001b[0m in \u001b[0;36m<module>\u001b[0;34m\u001b[0m\n\u001b[0;32m----> 1\u001b[0;31m data = [\n\u001b[0m\u001b[1;32m      2\u001b[0m              {\n\u001b[1;32m      3\u001b[0m                  'inputs': [\n\u001b[1;32m      4\u001b[0m \u001b[0;34m\u001b[0m\u001b[0m\n\u001b[1;32m      5\u001b[0m                                          \u001b[0;34m{\u001b[0m\u001b[0;34m'input_name'\u001b[0m\u001b[0;34m:\u001b[0m \u001b[0mkey\u001b[0m\u001b[0;34m,\u001b[0m \u001b[0;34m'input_value'\u001b[0m\u001b[0;34m:\u001b[0m\u001b[0mval\u001b[0m\u001b[0;34m}\u001b[0m \u001b[0;32mfor\u001b[0m \u001b[0;34m(\u001b[0m\u001b[0mkey\u001b[0m\u001b[0;34m,\u001b[0m \u001b[0mval\u001b[0m\u001b[0;34m)\u001b[0m \u001b[0;32min\u001b[0m \u001b[0mzip\u001b[0m\u001b[0;34m(\u001b[0m\u001b[0md\u001b[0m\u001b[0;34m[\u001b[0m\u001b[0mm\u001b[0m\u001b[0;34m]\u001b[0m\u001b[0;34m[\u001b[0m\u001b[0mk\u001b[0m\u001b[0;34m]\u001b[0m\u001b[0;34m[\u001b[0m\u001b[0;34m'keys'\u001b[0m\u001b[0;34m]\u001b[0m\u001b[0;34m,\u001b[0m\u001b[0md\u001b[0m\u001b[0;34m[\u001b[0m\u001b[0mm\u001b[0m\u001b[0;34m]\u001b[0m\u001b[0;34m[\u001b[0m\u001b[0mk\u001b[0m\u001b[0;34m]\u001b[0m\u001b[0;34m[\u001b[0m\u001b[0;34m'values'\u001b[0m\u001b[0;34m]\u001b[0m\u001b[0;34m)\u001b[0m\u001b[0;34m\u001b[0m\u001b[0;34m\u001b[0m\u001b[0m\n",
      "\u001b[0;32m<ipython-input-110-ae3243280a52>\u001b[0m in \u001b[0;36m<listcomp>\u001b[0;34m(.0)\u001b[0m\n\u001b[1;32m      3\u001b[0m                  'inputs': [\n\u001b[1;32m      4\u001b[0m \u001b[0;34m\u001b[0m\u001b[0m\n\u001b[0;32m----> 5\u001b[0;31m                                          \u001b[0;34m{\u001b[0m\u001b[0;34m'input_name'\u001b[0m\u001b[0;34m:\u001b[0m \u001b[0mkey\u001b[0m\u001b[0;34m,\u001b[0m \u001b[0;34m'input_value'\u001b[0m\u001b[0;34m:\u001b[0m\u001b[0mval\u001b[0m\u001b[0;34m}\u001b[0m \u001b[0;32mfor\u001b[0m \u001b[0;34m(\u001b[0m\u001b[0mkey\u001b[0m\u001b[0;34m,\u001b[0m \u001b[0mval\u001b[0m\u001b[0;34m)\u001b[0m \u001b[0;32min\u001b[0m \u001b[0mzip\u001b[0m\u001b[0;34m(\u001b[0m\u001b[0md\u001b[0m\u001b[0;34m[\u001b[0m\u001b[0mm\u001b[0m\u001b[0;34m]\u001b[0m\u001b[0;34m[\u001b[0m\u001b[0mk\u001b[0m\u001b[0;34m]\u001b[0m\u001b[0;34m[\u001b[0m\u001b[0;34m'keys'\u001b[0m\u001b[0;34m]\u001b[0m\u001b[0;34m,\u001b[0m\u001b[0md\u001b[0m\u001b[0;34m[\u001b[0m\u001b[0mm\u001b[0m\u001b[0;34m]\u001b[0m\u001b[0;34m[\u001b[0m\u001b[0mk\u001b[0m\u001b[0;34m]\u001b[0m\u001b[0;34m[\u001b[0m\u001b[0;34m'values'\u001b[0m\u001b[0;34m]\u001b[0m\u001b[0;34m)\u001b[0m\u001b[0;34m\u001b[0m\u001b[0;34m\u001b[0m\u001b[0m\n\u001b[0m\u001b[1;32m      6\u001b[0m                                       \u001b[0;32mfor\u001b[0m \u001b[0mk\u001b[0m \u001b[0;32min\u001b[0m \u001b[0md\u001b[0m\u001b[0;34m[\u001b[0m\u001b[0mm\u001b[0m\u001b[0;34m]\u001b[0m\u001b[0;34m.\u001b[0m\u001b[0mkeys\u001b[0m\u001b[0;34m(\u001b[0m\u001b[0;34m)\u001b[0m\u001b[0;34m\u001b[0m\u001b[0;34m\u001b[0m\u001b[0m\n\u001b[1;32m      7\u001b[0m                            ]\n",
      "\u001b[0;31mNameError\u001b[0m: name 'k' is not defined"
     ]
    }
   ],
   "source": [
    " data = [\n",
    "              {\n",
    "                  'inputs': [\n",
    "                                {'input_name': key, 'input_value':val} for (key, val) in zip(d[m][k]['keys'],d[m][k]['values'])\n",
    "                                       for k in d[m].keys()\n",
    "                            ]\n",
    "              } for m in d.keys()\n",
    "         ]\n",
    "\n"
   ]
  },
  {
   "cell_type": "code",
   "execution_count": 103,
   "metadata": {},
   "outputs": [
    {
     "data": {
      "text/plain": [
       "{'inputs': [{'input_name': 'depo_ocv_rest_time', 'input_value': 30},\n",
       "  {'input_name': 'depo_ocv_record_every_dE', 'input_value': 0.1},\n",
       "  {'input_name': 'depo_ocv_record_every_dT', 'input_value': 0.1},\n",
       "  {'input_name': 'depo_ocv_E_range', 'input_value': 'KBIO_ERANGE_AUTO'},\n",
       "  {'input_name': 'depo_ocv_xctr', 'input_value': 0}]}"
      ]
     },
     "execution_count": 103,
     "metadata": {},
     "output_type": "execute_result"
    }
   ],
   "source": [
    "data"
   ]
  },
  {
   "cell_type": "code",
   "execution_count": 18,
   "metadata": {},
   "outputs": [],
   "source": [
    "d = input_dict"
   ]
  },
  {
   "cell_type": "code",
   "execution_count": 22,
   "metadata": {},
   "outputs": [
    {
     "data": {
      "text/plain": [
       "dict_keys(['keys', 'values'])"
      ]
     },
     "execution_count": 22,
     "metadata": {},
     "output_type": "execute_result"
    }
   ],
   "source": [
    "d['inputs'][0].keys()"
   ]
  },
  {
   "cell_type": "code",
   "execution_count": 27,
   "metadata": {},
   "outputs": [
    {
     "data": {
      "text/plain": [
       "['keys', 'values']"
      ]
     },
     "execution_count": 27,
     "metadata": {},
     "output_type": "execute_result"
    }
   ],
   "source": [
    "list(d['inputs'][0].keys())"
   ]
  },
  {
   "cell_type": "code",
   "execution_count": 29,
   "metadata": {},
   "outputs": [
    {
     "data": {
      "text/plain": [
       "[['rest_time', 'record_every_dE', 'record_every_dT', 'E_range', 'xctr'],\n",
       " [30, 0.1, 0.1, 'KBIO_ERANGE_AUTO', 0]]"
      ]
     },
     "execution_count": 29,
     "metadata": {},
     "output_type": "execute_result"
    }
   ],
   "source": [
    "[d['inputs'][0][k] for k in list(d['inputs'][0].keys())]\n"
   ]
  },
  {
   "cell_type": "code",
   "execution_count": 50,
   "metadata": {},
   "outputs": [
    {
     "data": {
      "text/plain": [
       "['keys', 'values']"
      ]
     },
     "execution_count": 50,
     "metadata": {},
     "output_type": "execute_result"
    }
   ],
   "source": [
    "[x for x in d['inputs'][0].keys()]"
   ]
  },
  {
   "cell_type": "code",
   "execution_count": 43,
   "metadata": {},
   "outputs": [
    {
     "data": {
      "text/plain": [
       "[['keys', 'values']]"
      ]
     },
     "execution_count": 43,
     "metadata": {},
     "output_type": "execute_result"
    }
   ],
   "source": [
    "[[y for y in x.keys()] for x in d['inputs']]"
   ]
  },
  {
   "cell_type": "code",
   "execution_count": 90,
   "metadata": {},
   "outputs": [
    {
     "data": {
      "text/plain": [
       "dict_keys(['module_name', 'inputs'])"
      ]
     },
     "execution_count": 90,
     "metadata": {},
     "output_type": "execute_result"
    }
   ],
   "source": [
    "d.keys()"
   ]
  },
  {
   "cell_type": "code",
   "execution_count": 19,
   "metadata": {},
   "outputs": [
    {
     "ename": "KeyError",
     "evalue": "'keys'",
     "output_type": "error",
     "traceback": [
      "\u001b[0;31m---------------------------------------------------------------------------\u001b[0m",
      "\u001b[0;31mKeyError\u001b[0m                                  Traceback (most recent call last)",
      "\u001b[0;32m<ipython-input-19-03c75c58f946>\u001b[0m in \u001b[0;36m<module>\u001b[0;34m\u001b[0m\n\u001b[0;32m----> 1\u001b[0;31m [\n\u001b[0m\u001b[1;32m      2\u001b[0m     [ {'input_name': key, 'input_value':val} \n\u001b[1;32m      3\u001b[0m      \u001b[0;32mfor\u001b[0m \u001b[0;34m(\u001b[0m\u001b[0mkey\u001b[0m\u001b[0;34m,\u001b[0m \u001b[0mval\u001b[0m\u001b[0;34m)\u001b[0m \u001b[0;32min\u001b[0m \u001b[0mzip\u001b[0m\u001b[0;34m(\u001b[0m\u001b[0md\u001b[0m\u001b[0;34m[\u001b[0m\u001b[0mk\u001b[0m\u001b[0;34m]\u001b[0m\u001b[0;34m[\u001b[0m\u001b[0;34m'keys'\u001b[0m\u001b[0;34m]\u001b[0m\u001b[0;34m,\u001b[0m\u001b[0md\u001b[0m\u001b[0;34m[\u001b[0m\u001b[0mk\u001b[0m\u001b[0;34m]\u001b[0m\u001b[0;34m[\u001b[0m\u001b[0;34m'values'\u001b[0m\u001b[0;34m]\u001b[0m\u001b[0;34m)\u001b[0m\u001b[0;34m\u001b[0m\u001b[0;34m\u001b[0m\u001b[0m\n\u001b[1;32m      4\u001b[0m     ] for k in d['inputs'][0].keys()\n\u001b[1;32m      5\u001b[0m ]\n",
      "\u001b[0;32m<ipython-input-19-03c75c58f946>\u001b[0m in \u001b[0;36m<listcomp>\u001b[0;34m(.0)\u001b[0m\n\u001b[1;32m      1\u001b[0m [\n\u001b[1;32m      2\u001b[0m     [ {'input_name': key, 'input_value':val} \n\u001b[0;32m----> 3\u001b[0;31m      \u001b[0;32mfor\u001b[0m \u001b[0;34m(\u001b[0m\u001b[0mkey\u001b[0m\u001b[0;34m,\u001b[0m \u001b[0mval\u001b[0m\u001b[0;34m)\u001b[0m \u001b[0;32min\u001b[0m \u001b[0mzip\u001b[0m\u001b[0;34m(\u001b[0m\u001b[0md\u001b[0m\u001b[0;34m[\u001b[0m\u001b[0mk\u001b[0m\u001b[0;34m]\u001b[0m\u001b[0;34m[\u001b[0m\u001b[0;34m'keys'\u001b[0m\u001b[0;34m]\u001b[0m\u001b[0;34m,\u001b[0m\u001b[0md\u001b[0m\u001b[0;34m[\u001b[0m\u001b[0mk\u001b[0m\u001b[0;34m]\u001b[0m\u001b[0;34m[\u001b[0m\u001b[0;34m'values'\u001b[0m\u001b[0;34m]\u001b[0m\u001b[0;34m)\u001b[0m\u001b[0;34m\u001b[0m\u001b[0;34m\u001b[0m\u001b[0m\n\u001b[0m\u001b[1;32m      4\u001b[0m     ] for k in d['inputs'][0].keys()\n\u001b[1;32m      5\u001b[0m ]\n",
      "\u001b[0;31mKeyError\u001b[0m: 'keys'"
     ]
    }
   ],
   "source": [
    "[\n",
    "    [ {'input_name': key, 'input_value':val} \n",
    "     for (key, val) in zip(d[k]['keys'],d[k]['values'])\n",
    "    ] for k in d['inputs'][0].keys()\n",
    "]"
   ]
  },
  {
   "cell_type": "code",
   "execution_count": 68,
   "metadata": {},
   "outputs": [],
   "source": [
    "d1 = d['inputs'][0]"
   ]
  },
  {
   "cell_type": "code",
   "execution_count": 93,
   "metadata": {},
   "outputs": [
    {
     "data": {
      "text/plain": [
       "['module_name', 'inputs']"
      ]
     },
     "execution_count": 93,
     "metadata": {},
     "output_type": "execute_result"
    }
   ],
   "source": [
    "[k for k in d.keys()]"
   ]
  },
  {
   "cell_type": "code",
   "execution_count": 96,
   "metadata": {},
   "outputs": [
    {
     "data": {
      "text/plain": [
       "[[{'input_name': 'depo_ocv_rest_time', 'input_value': 30},\n",
       "  {'input_name': 'depo_ocv_record_every_dE', 'input_value': 0.1},\n",
       "  {'input_name': 'depo_ocv_record_every_dT', 'input_value': 0.1},\n",
       "  {'input_name': 'depo_ocv_E_range', 'input_value': 'KBIO_ERANGE_AUTO'},\n",
       "  {'input_name': 'depo_ocv_xctr', 'input_value': 0}]]"
      ]
     },
     "execution_count": 96,
     "metadata": {},
     "output_type": "execute_result"
    }
   ],
   "source": []
  },
  {
   "cell_type": "code",
   "execution_count": 97,
   "metadata": {},
   "outputs": [
    {
     "ename": "TypeError",
     "evalue": "string indices must be integers",
     "output_type": "error",
     "traceback": [
      "\u001b[0;31m---------------------------------------------------------------------------\u001b[0m",
      "\u001b[0;31mTypeError\u001b[0m                                 Traceback (most recent call last)",
      "\u001b[0;32m<ipython-input-97-a95e6a28d104>\u001b[0m in \u001b[0;36m<module>\u001b[0;34m\u001b[0m\n\u001b[0;32m----> 1\u001b[0;31m [\n\u001b[0m\u001b[1;32m      2\u001b[0m     [\n\u001b[1;32m      3\u001b[0m         \u001b[0;34m{\u001b[0m\u001b[0;34m'input_name'\u001b[0m\u001b[0;34m:\u001b[0m \u001b[0mkey\u001b[0m\u001b[0;34m,\u001b[0m \u001b[0;34m'input_value'\u001b[0m\u001b[0;34m:\u001b[0m\u001b[0mval\u001b[0m\u001b[0;34m}\u001b[0m \u001b[0;32mfor\u001b[0m \u001b[0;34m(\u001b[0m\u001b[0mkey\u001b[0m\u001b[0;34m,\u001b[0m \u001b[0mval\u001b[0m\u001b[0;34m)\u001b[0m \u001b[0;32min\u001b[0m \u001b[0mzip\u001b[0m\u001b[0;34m(\u001b[0m\u001b[0md\u001b[0m\u001b[0;34m[\u001b[0m\u001b[0mk\u001b[0m\u001b[0;34m]\u001b[0m\u001b[0;34m[\u001b[0m\u001b[0;34m'keys'\u001b[0m\u001b[0;34m]\u001b[0m\u001b[0;34m,\u001b[0m\u001b[0md\u001b[0m\u001b[0;34m[\u001b[0m\u001b[0mk\u001b[0m\u001b[0;34m]\u001b[0m\u001b[0;34m[\u001b[0m\u001b[0;34m'values'\u001b[0m\u001b[0;34m]\u001b[0m\u001b[0;34m)\u001b[0m\u001b[0;34m\u001b[0m\u001b[0;34m\u001b[0m\u001b[0m\n\u001b[1;32m      4\u001b[0m     ]  for k in d.keys()\n\u001b[1;32m      5\u001b[0m ]\n",
      "\u001b[0;32m<ipython-input-97-a95e6a28d104>\u001b[0m in \u001b[0;36m<listcomp>\u001b[0;34m(.0)\u001b[0m\n\u001b[1;32m      1\u001b[0m [\n\u001b[1;32m      2\u001b[0m     [\n\u001b[0;32m----> 3\u001b[0;31m         \u001b[0;34m{\u001b[0m\u001b[0;34m'input_name'\u001b[0m\u001b[0;34m:\u001b[0m \u001b[0mkey\u001b[0m\u001b[0;34m,\u001b[0m \u001b[0;34m'input_value'\u001b[0m\u001b[0;34m:\u001b[0m\u001b[0mval\u001b[0m\u001b[0;34m}\u001b[0m \u001b[0;32mfor\u001b[0m \u001b[0;34m(\u001b[0m\u001b[0mkey\u001b[0m\u001b[0;34m,\u001b[0m \u001b[0mval\u001b[0m\u001b[0;34m)\u001b[0m \u001b[0;32min\u001b[0m \u001b[0mzip\u001b[0m\u001b[0;34m(\u001b[0m\u001b[0md\u001b[0m\u001b[0;34m[\u001b[0m\u001b[0mk\u001b[0m\u001b[0;34m]\u001b[0m\u001b[0;34m[\u001b[0m\u001b[0;34m'keys'\u001b[0m\u001b[0;34m]\u001b[0m\u001b[0;34m,\u001b[0m\u001b[0md\u001b[0m\u001b[0;34m[\u001b[0m\u001b[0mk\u001b[0m\u001b[0;34m]\u001b[0m\u001b[0;34m[\u001b[0m\u001b[0;34m'values'\u001b[0m\u001b[0;34m]\u001b[0m\u001b[0;34m)\u001b[0m\u001b[0;34m\u001b[0m\u001b[0;34m\u001b[0m\u001b[0m\n\u001b[0m\u001b[1;32m      4\u001b[0m     ]  for k in d.keys()\n\u001b[1;32m      5\u001b[0m ]\n",
      "\u001b[0;31mTypeError\u001b[0m: string indices must be integers"
     ]
    }
   ],
   "source": [
    "[\n",
    "    [\n",
    "        {'input_name': key, 'input_value':val} for (key, val) in zip(d[k]['keys'],d[k]['values'])\n",
    "    ]  for k in d.keys()\n",
    "]"
   ]
  },
  {
   "cell_type": "code",
   "execution_count": 51,
   "metadata": {},
   "outputs": [
    {
     "ename": "TypeError",
     "evalue": "string indices must be integers",
     "output_type": "error",
     "traceback": [
      "\u001b[0;31m---------------------------------------------------------------------------\u001b[0m",
      "\u001b[0;31mTypeError\u001b[0m                                 Traceback (most recent call last)",
      "\u001b[0;32m<ipython-input-51-a31bb481324e>\u001b[0m in \u001b[0;36m<module>\u001b[0;34m\u001b[0m\n\u001b[1;32m      1\u001b[0m [i for item in\n\u001b[0;32m----> 2\u001b[0;31m    [\n\u001b[0m\u001b[1;32m      3\u001b[0m         [\n\u001b[1;32m      4\u001b[0m             \u001b[0;34m{\u001b[0m\u001b[0;34m'input_name'\u001b[0m\u001b[0;34m:\u001b[0m \u001b[0mkey\u001b[0m\u001b[0;34m,\u001b[0m \u001b[0;34m'input_value'\u001b[0m\u001b[0;34m:\u001b[0m\u001b[0mval\u001b[0m\u001b[0;34m}\u001b[0m \u001b[0;32mfor\u001b[0m \u001b[0;34m(\u001b[0m\u001b[0mkey\u001b[0m\u001b[0;34m,\u001b[0m \u001b[0mval\u001b[0m\u001b[0;34m)\u001b[0m \u001b[0;32min\u001b[0m \u001b[0mzip\u001b[0m\u001b[0;34m(\u001b[0m\u001b[0md\u001b[0m\u001b[0;34m[\u001b[0m\u001b[0mk\u001b[0m\u001b[0;34m]\u001b[0m\u001b[0;34m[\u001b[0m\u001b[0;34m'keys'\u001b[0m\u001b[0;34m]\u001b[0m\u001b[0;34m,\u001b[0m\u001b[0md\u001b[0m\u001b[0;34m[\u001b[0m\u001b[0mk\u001b[0m\u001b[0;34m]\u001b[0m\u001b[0;34m[\u001b[0m\u001b[0;34m'values'\u001b[0m\u001b[0;34m]\u001b[0m\u001b[0;34m)\u001b[0m\u001b[0;34m\u001b[0m\u001b[0;34m\u001b[0m\u001b[0m\n\u001b[1;32m      5\u001b[0m         ]  for k in d.keys()\n",
      "\u001b[0;32m<ipython-input-51-a31bb481324e>\u001b[0m in \u001b[0;36m<listcomp>\u001b[0;34m(.0)\u001b[0m\n\u001b[1;32m      2\u001b[0m    [\n\u001b[1;32m      3\u001b[0m         [\n\u001b[0;32m----> 4\u001b[0;31m             \u001b[0;34m{\u001b[0m\u001b[0;34m'input_name'\u001b[0m\u001b[0;34m:\u001b[0m \u001b[0mkey\u001b[0m\u001b[0;34m,\u001b[0m \u001b[0;34m'input_value'\u001b[0m\u001b[0;34m:\u001b[0m\u001b[0mval\u001b[0m\u001b[0;34m}\u001b[0m \u001b[0;32mfor\u001b[0m \u001b[0;34m(\u001b[0m\u001b[0mkey\u001b[0m\u001b[0;34m,\u001b[0m \u001b[0mval\u001b[0m\u001b[0;34m)\u001b[0m \u001b[0;32min\u001b[0m \u001b[0mzip\u001b[0m\u001b[0;34m(\u001b[0m\u001b[0md\u001b[0m\u001b[0;34m[\u001b[0m\u001b[0mk\u001b[0m\u001b[0;34m]\u001b[0m\u001b[0;34m[\u001b[0m\u001b[0;34m'keys'\u001b[0m\u001b[0;34m]\u001b[0m\u001b[0;34m,\u001b[0m\u001b[0md\u001b[0m\u001b[0;34m[\u001b[0m\u001b[0mk\u001b[0m\u001b[0;34m]\u001b[0m\u001b[0;34m[\u001b[0m\u001b[0;34m'values'\u001b[0m\u001b[0;34m]\u001b[0m\u001b[0;34m)\u001b[0m\u001b[0;34m\u001b[0m\u001b[0;34m\u001b[0m\u001b[0m\n\u001b[0m\u001b[1;32m      5\u001b[0m         ]  for k in d.keys()\n\u001b[1;32m      6\u001b[0m    ] for i in item\n",
      "\u001b[0;31mTypeError\u001b[0m: string indices must be integers"
     ]
    }
   ],
   "source": [
    "[i for item in\n",
    "   [\n",
    "        [\n",
    "            {'input_name': key, 'input_value':val} for (key, val) in zip(d[k]['keys'],d[k]['values'])\n",
    "        ]  for k in d.keys()\n",
    "   ] for i in item\n",
    "]"
   ]
  },
  {
   "cell_type": "code",
   "execution_count": 10,
   "metadata": {},
   "outputs": [
    {
     "ename": "TypeError",
     "evalue": "string indices must be integers",
     "output_type": "error",
     "traceback": [
      "\u001b[0;31m---------------------------------------------------------------------------\u001b[0m",
      "\u001b[0;31mTypeError\u001b[0m                                 Traceback (most recent call last)",
      "\u001b[0;32m<ipython-input-10-48e1af62974e>\u001b[0m in \u001b[0;36m<module>\u001b[0;34m\u001b[0m\n\u001b[0;32m----> 1\u001b[0;31m \u001b[0mread_params\u001b[0m\u001b[0;34m(\u001b[0m\u001b[0minput_dict\u001b[0m\u001b[0;34m)\u001b[0m\u001b[0;34m\u001b[0m\u001b[0;34m\u001b[0m\u001b[0m\n\u001b[0m",
      "\u001b[0;32m<ipython-input-8-05e1d6b00d3e>\u001b[0m in \u001b[0;36mread_params\u001b[0;34m(d)\u001b[0m\n\u001b[1;32m      3\u001b[0m     data =  {\n\u001b[1;32m      4\u001b[0m                 'inputs': [i for item in\n\u001b[0;32m----> 5\u001b[0;31m                                [\n\u001b[0m\u001b[1;32m      6\u001b[0m                                     [\n\u001b[1;32m      7\u001b[0m                                         \u001b[0;34m{\u001b[0m\u001b[0;34m'input_name'\u001b[0m\u001b[0;34m:\u001b[0m \u001b[0mkey\u001b[0m\u001b[0;34m,\u001b[0m \u001b[0;34m'input_value'\u001b[0m\u001b[0;34m:\u001b[0m\u001b[0mval\u001b[0m\u001b[0;34m}\u001b[0m \u001b[0;32mfor\u001b[0m \u001b[0;34m(\u001b[0m\u001b[0mkey\u001b[0m\u001b[0;34m,\u001b[0m \u001b[0mval\u001b[0m\u001b[0;34m)\u001b[0m \u001b[0;32min\u001b[0m \u001b[0mzip\u001b[0m\u001b[0;34m(\u001b[0m\u001b[0md\u001b[0m\u001b[0;34m[\u001b[0m\u001b[0mk\u001b[0m\u001b[0;34m]\u001b[0m\u001b[0;34m[\u001b[0m\u001b[0;34m'keys'\u001b[0m\u001b[0;34m]\u001b[0m\u001b[0;34m,\u001b[0m\u001b[0md\u001b[0m\u001b[0;34m[\u001b[0m\u001b[0mk\u001b[0m\u001b[0;34m]\u001b[0m\u001b[0;34m[\u001b[0m\u001b[0;34m'values'\u001b[0m\u001b[0;34m]\u001b[0m\u001b[0;34m)\u001b[0m\u001b[0;34m\u001b[0m\u001b[0;34m\u001b[0m\u001b[0m\n",
      "\u001b[0;32m<ipython-input-8-05e1d6b00d3e>\u001b[0m in \u001b[0;36m<listcomp>\u001b[0;34m(.0)\u001b[0m\n\u001b[1;32m      5\u001b[0m                                [\n\u001b[1;32m      6\u001b[0m                                     [\n\u001b[0;32m----> 7\u001b[0;31m                                         \u001b[0;34m{\u001b[0m\u001b[0;34m'input_name'\u001b[0m\u001b[0;34m:\u001b[0m \u001b[0mkey\u001b[0m\u001b[0;34m,\u001b[0m \u001b[0;34m'input_value'\u001b[0m\u001b[0;34m:\u001b[0m\u001b[0mval\u001b[0m\u001b[0;34m}\u001b[0m \u001b[0;32mfor\u001b[0m \u001b[0;34m(\u001b[0m\u001b[0mkey\u001b[0m\u001b[0;34m,\u001b[0m \u001b[0mval\u001b[0m\u001b[0;34m)\u001b[0m \u001b[0;32min\u001b[0m \u001b[0mzip\u001b[0m\u001b[0;34m(\u001b[0m\u001b[0md\u001b[0m\u001b[0;34m[\u001b[0m\u001b[0mk\u001b[0m\u001b[0;34m]\u001b[0m\u001b[0;34m[\u001b[0m\u001b[0;34m'keys'\u001b[0m\u001b[0;34m]\u001b[0m\u001b[0;34m,\u001b[0m\u001b[0md\u001b[0m\u001b[0;34m[\u001b[0m\u001b[0mk\u001b[0m\u001b[0;34m]\u001b[0m\u001b[0;34m[\u001b[0m\u001b[0;34m'values'\u001b[0m\u001b[0;34m]\u001b[0m\u001b[0;34m)\u001b[0m\u001b[0;34m\u001b[0m\u001b[0;34m\u001b[0m\u001b[0m\n\u001b[0m\u001b[1;32m      8\u001b[0m                                     ]  for k in d.keys()\n\u001b[1;32m      9\u001b[0m                                ] for i in item['inputs']\n",
      "\u001b[0;31mTypeError\u001b[0m: string indices must be integers"
     ]
    }
   ],
   "source": [
    "read_params(input_dict)"
   ]
  },
  {
   "cell_type": "code",
   "execution_count": 94,
   "metadata": {},
   "outputs": [
    {
     "ename": "TypeError",
     "evalue": "unhashable type: 'dict'",
     "output_type": "error",
     "traceback": [
      "\u001b[0;31m---------------------------------------------------------------------------\u001b[0m",
      "\u001b[0;31mTypeError\u001b[0m                                 Traceback (most recent call last)",
      "\u001b[0;32m<ipython-input-94-9874817939bc>\u001b[0m in \u001b[0;36m<module>\u001b[0;34m\u001b[0m\n\u001b[0;32m----> 1\u001b[0;31m dic = {\n\u001b[0m\u001b[1;32m      2\u001b[0m         \u001b[0;34m{\u001b[0m\u001b[0;34m'module_name'\u001b[0m\u001b[0;34m:\u001b[0m \u001b[0;34m'm1'\u001b[0m\u001b[0;34m,\u001b[0m \u001b[0;34m'inputs'\u001b[0m\u001b[0;34m:\u001b[0m\u001b[0;34m[\u001b[0m\u001b[0;34m]\u001b[0m\u001b[0;34m}\u001b[0m\u001b[0;34m,\u001b[0m\u001b[0;34m\u001b[0m\u001b[0;34m\u001b[0m\u001b[0m\n\u001b[1;32m      3\u001b[0m         \u001b[0;34m{\u001b[0m\u001b[0;34m'module_name'\u001b[0m\u001b[0;34m:\u001b[0m \u001b[0;34m'm2'\u001b[0m\u001b[0;34m,\u001b[0m \u001b[0;34m'inputs'\u001b[0m\u001b[0;34m:\u001b[0m\u001b[0;34m[\u001b[0m\u001b[0;34m]\u001b[0m\u001b[0;34m}\u001b[0m\u001b[0;34m\u001b[0m\u001b[0;34m\u001b[0m\u001b[0m\n\u001b[1;32m      4\u001b[0m }\n",
      "\u001b[0;31mTypeError\u001b[0m: unhashable type: 'dict'"
     ]
    }
   ],
   "source": [
    "dic = {\n",
    "        {'module_name': 'm1', 'inputs':[]},\n",
    "        {'module_name': 'm2', 'inputs':[]}\n",
    "}"
   ]
  },
  {
   "cell_type": "code",
   "execution_count": 28,
   "metadata": {},
   "outputs": [],
   "source": [
    "inputs = {'vs_initial': 'False', 'vs_final': 'False', 'initial_current_step': 0, 'final_current_step': 0, 'amplitude': 5e-06, 'frequency_number': 10, 'final_frequency': 1, 'initial_frequency': 100000.0, 'channel': 0, 'duration_step': 0, 'step_number': 0, 'record_every_dT': 0.1, 'record_every_dE': 0.01, 'sweep': 'False', 'average_n_times': 1, 'correction': 'False', 'wait_for_steady': 0.1, 'I_range': 'KBIO_IRANGE_10mA', 'E_range': 'KBIO_ERANGE_AUTO', 'bandwidth': 'KBIO_BW_5', 'xctr': 0}\n",
    "\n"
   ]
  },
  {
   "cell_type": "code",
   "execution_count": 38,
   "metadata": {},
   "outputs": [
    {
     "data": {
      "text/plain": [
       "['vs_initial',\n",
       " 'vs_final',\n",
       " 'initial_current_step',\n",
       " 'final_current_step',\n",
       " 'amplitude',\n",
       " 'frequency_number',\n",
       " 'final_frequency',\n",
       " 'initial_frequency',\n",
       " 'channel',\n",
       " 'duration_step',\n",
       " 'step_number',\n",
       " 'record_every_dT',\n",
       " 'record_every_dE',\n",
       " 'sweep',\n",
       " 'average_n_times',\n",
       " 'correction',\n",
       " 'wait_for_steady',\n",
       " 'I_range',\n",
       " 'E_range',\n",
       " 'bandwidth',\n",
       " 'xctr']"
      ]
     },
     "execution_count": 38,
     "metadata": {},
     "output_type": "execute_result"
    }
   ],
   "source": [
    "# keys = inputs.keys()\n",
    "keys, values = list(inputs.keys()), list(inputs.values())\n",
    "keys"
   ]
  },
  {
   "cell_type": "code",
   "execution_count": null,
   "metadata": {},
   "outputs": [],
   "source": []
  },
  {
   "cell_type": "code",
   "execution_count": 27,
   "metadata": {},
   "outputs": [
    {
     "data": {
      "text/plain": [
       "[[\"'vs_initial'\", \" 'False'\"],\n",
       " [\"'vs_final'\", \" 'False'\"],\n",
       " [\"'initial_current_step'\", ' 0'],\n",
       " [\"'final_current_step'\", ' 0'],\n",
       " [\"'amplitude'\", ' 5e-06'],\n",
       " [\"'frequency_number'\", ' 10'],\n",
       " [\"'final_frequency'\", ' 1'],\n",
       " [\"'initial_frequency'\", ' 100000.0'],\n",
       " [\"'channel'\", ' 0'],\n",
       " [\"'duration_step'\", ' 0'],\n",
       " [\"'step_number'\", ' 0'],\n",
       " [\"'record_every_dT'\", ' 0.1'],\n",
       " [\"'record_every_dE'\", ' 0.01'],\n",
       " [\"'sweep'\", \" 'False'\"],\n",
       " [\"'average_n_times'\", ' 1'],\n",
       " [\"'correction'\", \" 'False'\"],\n",
       " [\"'wait_for_steady'\", ' 0.1'],\n",
       " [\"'I_range'\", \" 'KBIO_IRANGE_10mA'\"],\n",
       " [\"'E_range'\", \" 'KBIO_ERANGE_AUTO'\"],\n",
       " [\"'bandwidth'\", \" 'KBIO_BW_5'\"],\n",
       " [\"'xctr'\", ' 0\\n']]"
      ]
     },
     "execution_count": 27,
     "metadata": {},
     "output_type": "execute_result"
    }
   ],
   "source": [
    "[[y for y in x.split(':')] for x in inputs.split(', ')]\n"
   ]
  },
  {
   "cell_type": "code",
   "execution_count": null,
   "metadata": {},
   "outputs": [],
   "source": []
  }
 ],
 "metadata": {
  "kernelspec": {
   "display_name": "Python 3",
   "language": "python",
   "name": "python3"
  },
  "language_info": {
   "codemirror_mode": {
    "name": "ipython",
    "version": 3
   },
   "file_extension": ".py",
   "mimetype": "text/x-python",
   "name": "python",
   "nbconvert_exporter": "python",
   "pygments_lexer": "ipython3",
   "version": "3.8.5"
  }
 },
 "nbformat": 4,
 "nbformat_minor": 4
}
